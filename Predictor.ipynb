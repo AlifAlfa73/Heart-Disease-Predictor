{
 "cells": [
  {
   "cell_type": "markdown",
   "metadata": {},
   "source": [
    "# Buat Nama Kelompok DKK"
   ]
  },
  {
   "cell_type": "markdown",
   "metadata": {},
   "source": [
    "## Import"
   ]
  },
  {
   "cell_type": "code",
   "execution_count": 26,
   "metadata": {},
   "outputs": [],
   "source": [
    "#Ini gw copas dari tucil dulu ya sementara, nanti yang ga butuh apus ae\n",
    "\n",
    "import numpy as np \n",
    "import random\n",
    "import pandas as pd \n",
    "import pickle\n",
    "import matplotlib.pyplot as plt\n",
    "import seaborn as sns\n",
    "import graphviz\n",
    "import itertools\n",
    "\n",
    "from sklearn.model_selection import train_test_split\n",
    "from sklearn import metrics\n",
    "from sklearn import tree\n",
    "from sklearn.impute import SimpleImputer\n",
    "\n",
    "from sklearn import svm, datasets\n",
    "from sklearn.pipeline import Pipeline\n",
    "from sklearn.metrics import mean_squared_error, classification_report, accuracy_score, confusion_matrix\n",
    "from sklearn.model_selection import train_test_split, KFold\n",
    "\n",
    "from sklearn.naive_bayes import GaussianNB\n",
    "from sklearn.tree import DecisionTreeClassifier\n",
    "from sklearn.neighbors import KNeighborsClassifier\n",
    "from sklearn.neural_network import MLPClassifier\n",
    "\n",
    "#Coba pake imputer\n",
    "\n",
    "\n",
    "%matplotlib inline"
   ]
  },
  {
   "cell_type": "markdown",
   "metadata": {},
   "source": [
    "## Read data"
   ]
  },
  {
   "cell_type": "code",
   "execution_count": 27,
   "metadata": {},
   "outputs": [],
   "source": [
    "heartTrain = pd.read_csv('tubes2_HeartDisease_train.csv')\n",
    "heartTest = pd.read_csv('tubes2_HeartDisease_test.csv')"
   ]
  },
  {
   "cell_type": "markdown",
   "metadata": {},
   "source": [
    "## Analisis kondisi data"
   ]
  },
  {
   "cell_type": "code",
   "execution_count": 28,
   "metadata": {},
   "outputs": [
    {
     "name": "stdout",
     "output_type": "stream",
     "text": [
      "Tipe data pada kolom\n",
      "\n",
      "Column1      int64\n",
      "Column2      int64\n",
      "Column3      int64\n",
      "Column4     object\n",
      "Column5     object\n",
      "Column6     object\n",
      "Column7     object\n",
      "Column8     object\n",
      "Column9     object\n",
      "Column10    object\n",
      "Column11    object\n",
      "Column12    object\n",
      "Column13    object\n",
      "Column14     int64\n",
      "dtype: object\n",
      "\n",
      "Menampilkan sebagian data\n",
      "\n",
      "   Column1  Column2  Column3 Column4 Column5 Column6 Column7 Column8 Column9  \\\n",
      "0       54        1        4     125     216       0       0     140       0   \n",
      "1       55        1        4     158     217       0       0     110       1   \n",
      "2       54        0        3     135     304       1       0     170       0   \n",
      "3       48        0        3     120     195       0       0     125       0   \n",
      "4       50        1        4     120       0       0       1     156       1   \n",
      "\n",
      "  Column10 Column11 Column12 Column13  Column14  \n",
      "0        0        ?        ?        ?         1  \n",
      "1      2.5        2        ?        ?         1  \n",
      "2        0        1        0        3         0  \n",
      "3        0        ?        ?        ?         0  \n",
      "4        0        1        ?        6         3  \n",
      "\n",
      "Mencari jumlah nilai yang tidak terdefinisi pada tiap kolom-nya\n"
     ]
    },
    {
     "data": {
      "text/plain": [
       "Column1     0\n",
       "Column2     0\n",
       "Column3     0\n",
       "Column4     0\n",
       "Column5     0\n",
       "Column6     0\n",
       "Column7     1\n",
       "Column8     0\n",
       "Column9     0\n",
       "Column10    0\n",
       "Column11    0\n",
       "Column12    0\n",
       "Column13    0\n",
       "Column14    0\n",
       "dtype: int64"
      ]
     },
     "execution_count": 28,
     "metadata": {},
     "output_type": "execute_result"
    }
   ],
   "source": [
    "print('Tipe data pada kolom\\n')\n",
    "print(heartTrain.dtypes)\n",
    "print()\n",
    "\n",
    "print('Menampilkan sebagian data\\n')\n",
    "print(heartTrain.head())\n",
    "print()\n",
    "\n",
    "print('Mencari jumlah nilai yang tidak terdefinisi pada tiap kolom-nya')\n",
    "heartTrain.isna().sum()"
   ]
  },
  {
   "cell_type": "markdown",
   "metadata": {},
   "source": [
    "Berdasarkan dengan beberapa pengecekan di atas, dapat dilihat bahwa data pada csv yang diberikan:\n",
    "1. Tidak semua data bertipe numerik\n",
    "2. Ada beberapa data yang bernilai '?'\n",
    "3. Ada data yang bernilai NaN (undefined)\n",
    "\n",
    "Hal tersebut dapat mengganggu proses pemodelan. Oleh karena itu perlu dilakukan pre-processing sebagai berikut :"
   ]
  },
  {
   "cell_type": "markdown",
   "metadata": {},
   "source": [
    "#### Konversi dataframe menjadi numerik"
   ]
  },
  {
   "cell_type": "code",
   "execution_count": 29,
   "metadata": {
    "scrolled": false
   },
   "outputs": [
    {
     "name": "stdout",
     "output_type": "stream",
     "text": [
      "Tipe data pada kolom setelah konversi\n",
      "\n",
      "Column1       int64\n",
      "Column2       int64\n",
      "Column3       int64\n",
      "Column4     float64\n",
      "Column5     float64\n",
      "Column6     float64\n",
      "Column7     float64\n",
      "Column8     float64\n",
      "Column9     float64\n",
      "Column10    float64\n",
      "Column11    float64\n",
      "Column12    float64\n",
      "Column13    float64\n",
      "Column14      int64\n",
      "dtype: object\n",
      "\n",
      "Jumlah Nilai NaN setelah dataframe diconvert menjadi numerik\n",
      "\n",
      "Column1       0\n",
      "Column2       0\n",
      "Column3       0\n",
      "Column4      47\n",
      "Column5      24\n",
      "Column6      78\n",
      "Column7       2\n",
      "Column8      44\n",
      "Column9      44\n",
      "Column10     49\n",
      "Column11    262\n",
      "Column12    514\n",
      "Column13    408\n",
      "Column14      0\n",
      "dtype: int64\n"
     ]
    }
   ],
   "source": [
    "# Convert string to numeric, convert non-number to NAN\n",
    "heartTrain = heartTrain.apply(pd.to_numeric,errors = 'coerce')\n",
    "\n",
    "print('Tipe data pada kolom setelah konversi\\n')\n",
    "print(heartTrain.dtypes)\n",
    "print()\n",
    "\n",
    "# NaN count\n",
    "print('Jumlah Nilai NaN setelah dataframe diconvert menjadi numerik\\n')\n",
    "print(heartTrain.isna().sum())"
   ]
  },
  {
   "cell_type": "markdown",
   "metadata": {},
   "source": [
    "#### Menghilangkan nilai NaN\n",
    "\n",
    "Pada pre-processingnya, konversi data dari object (string) menjadi numerik berhasil menghilagkan tipe objek dari dataframe. Namun, untuk value yang tidak dapat dikonversi menjadi angka akan bernilai NaN yang membuat dataframe tidak bisa diolah. \n",
    "\n",
    "Salah satu cara termudah untuk menghilangkan nilai NaN adalah dengan cara menghapus row yang mengandung nilai tersebut, namun melihat pada column 12 terdapat 514 row yang bernilai NaN, cara ini tidak feasible karena akan sangat mengurangi data training. Oleh karena itum, kami memutuskan untuk me-replace nilai NaN dengan XXXXXX. Pemilihan XXXXXX dilakukan karena XXXXXXXXXXXXXXXXXXXXXXXXXXXX"
   ]
  },
  {
   "cell_type": "code",
   "execution_count": 32,
   "metadata": {},
   "outputs": [
    {
     "name": "stdout",
     "output_type": "stream",
     "text": [
      "Jumlah Nilai NaN setelah datafram di-imput\n",
      "\n",
      "Column1     0\n",
      "Column2     0\n",
      "Column3     0\n",
      "Column4     0\n",
      "Column5     0\n",
      "Column6     0\n",
      "Column7     0\n",
      "Column8     0\n",
      "Column9     0\n",
      "Column10    0\n",
      "Column11    0\n",
      "Column12    0\n",
      "Column13    0\n",
      "Column14    0\n",
      "dtype: int64\n"
     ]
    }
   ],
   "source": [
    "imp = SimpleImputer(missing_values=np.nan, strategy='median')\n",
    "\n",
    "c = heartTrain.columns\n",
    "heartTrain = pd.DataFrame(imp.fit_transform(heartTrain))\n",
    "\n",
    "heartTrain.columns = c\n",
    "#imputed_DF.index = DF.index\n",
    "\n",
    "#NaN count\n",
    "print('Jumlah Nilai NaN setelah datafram di-imput\\n')\n",
    "print(heartTrain.isna().sum())"
   ]
  },
  {
   "cell_type": "code",
   "execution_count": 31,
   "metadata": {},
   "outputs": [],
   "source": [
    "#Analisis buat milih algoritma(?)"
   ]
  },
  {
   "cell_type": "code",
   "execution_count": 7,
   "metadata": {},
   "outputs": [],
   "source": [
    "#Split data train"
   ]
  },
  {
   "cell_type": "code",
   "execution_count": null,
   "metadata": {},
   "outputs": [],
   "source": [
    "# Coba coba algoritma"
   ]
  },
  {
   "cell_type": "code",
   "execution_count": null,
   "metadata": {},
   "outputs": [],
   "source": [
    "#Simpan model"
   ]
  },
  {
   "cell_type": "code",
   "execution_count": null,
   "metadata": {},
   "outputs": [],
   "source": []
  }
 ],
 "metadata": {
  "kernelspec": {
   "display_name": "Python 3",
   "language": "python",
   "name": "python3"
  },
  "language_info": {
   "codemirror_mode": {
    "name": "ipython",
    "version": 3
   },
   "file_extension": ".py",
   "mimetype": "text/x-python",
   "name": "python",
   "nbconvert_exporter": "python",
   "pygments_lexer": "ipython3",
   "version": "3.5.2"
  }
 },
 "nbformat": 4,
 "nbformat_minor": 2
}

{
 "cells": [
  {
   "cell_type": "markdown",
   "metadata": {},
   "source": [
    "# Buat Nama Kelompok DKK"
   ]
  },
  {
   "cell_type": "markdown",
   "metadata": {},
   "source": [
    "## Import"
   ]
  },
  {
   "cell_type": "code",
   "execution_count": 2,
   "metadata": {},
   "outputs": [],
   "source": [
    "#Ini gw copas dari tucil dulu ya sementara, nanti yang ga butuh apus ae\n",
    "\n",
    "import numpy as np \n",
    "import random\n",
    "import pandas as pd \n",
    "import pickle\n",
    "import matplotlib.pyplot as plt\n",
    "import seaborn as sns\n",
    "import graphviz\n",
    "import itertools\n",
    "\n",
    "from sklearn.model_selection import train_test_split\n",
    "from sklearn import metrics\n",
    "from sklearn import tree\n",
    "\n",
    "from sklearn import svm, datasets\n",
    "from sklearn.pipeline import Pipeline\n",
    "from sklearn.metrics import mean_squared_error, classification_report, accuracy_score, confusion_matrix\n",
    "from sklearn.model_selection import train_test_split, KFold\n",
    "\n",
    "from sklearn.naive_bayes import GaussianNB\n",
    "from sklearn.tree import DecisionTreeClassifier\n",
    "from sklearn.neighbors import KNeighborsClassifier\n",
    "from sklearn.neural_network import MLPClassifier\n",
    "\n",
    "\n",
    "\n",
    "\n",
    "%matplotlib inline"
   ]
  },
  {
   "cell_type": "markdown",
   "metadata": {},
   "source": [
    "## Read data"
   ]
  },
  {
   "cell_type": "code",
   "execution_count": 3,
   "metadata": {},
   "outputs": [
    {
     "data": {
      "text/plain": [
       "array(['125', '158', '135', '120', '130', '150', '115', '118', '142',\n",
       "       '132', '?', '160', '110', '112', '155', '180', '108', '104', '140',\n",
       "       '100', '200', '95', '170', '122', '126', '138', '124', '144',\n",
       "       '145', '101', '128', '105', '92', '114', '80', '116', '117', '152',\n",
       "       '178', '154', '146', '94', '136', '148', '156', '106', '98', '134',\n",
       "       '192', '172', '190', '165', '174', '185', '96', '127', '102', '0',\n",
       "       '129'], dtype=object)"
      ]
     },
     "execution_count": 3,
     "metadata": {},
     "output_type": "execute_result"
    }
   ],
   "source": [
    "heartTrain = pd.read_csv('tubes2_HeartDisease_train.csv')\n",
    "heartTest = pd.read_csv('tubes2_HeartDisease_test.csv')\n",
    "heartTrain['Column4'].unique()"
   ]
  },
  {
   "cell_type": "markdown",
   "metadata": {},
   "source": []
  },
  {
   "cell_type": "code",
   "execution_count": 13,
   "metadata": {
    "scrolled": false
   },
   "outputs": [
    {
     "data": {
      "text/plain": [
       "Column1       0\n",
       "Column2       0\n",
       "Column3       0\n",
       "Column4      47\n",
       "Column5      24\n",
       "Column6      78\n",
       "Column7       2\n",
       "Column8      44\n",
       "Column9      44\n",
       "Column10     49\n",
       "Column11    262\n",
       "Column12    514\n",
       "Column13    408\n",
       "Column14      0\n",
       "dtype: int64"
      ]
     },
     "execution_count": 13,
     "metadata": {},
     "output_type": "execute_result"
    }
   ],
   "source": [
    "# Convert string to numeric, convert ? to NAN\n",
    "heartTrain = heartTrain.apply(pd.to_numeric,errors = 'coerce')\n",
    "\n",
    "# NaN count\n",
    "heartTrain.isna().sum()"
   ]
  },
  {
   "cell_type": "code",
   "execution_count": null,
   "metadata": {},
   "outputs": [],
   "source": []
  }
 ],
 "metadata": {
  "kernelspec": {
   "display_name": "Python 3",
   "language": "python",
   "name": "python3"
  },
  "language_info": {
   "codemirror_mode": {
    "name": "ipython",
    "version": 3
   },
   "file_extension": ".py",
   "mimetype": "text/x-python",
   "name": "python",
   "nbconvert_exporter": "python",
   "pygments_lexer": "ipython3",
   "version": "3.5.2"
  }
 },
 "nbformat": 4,
 "nbformat_minor": 2
}
